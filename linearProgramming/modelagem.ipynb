{
 "cells": [
  {
   "cell_type": "markdown",
   "metadata": {},
   "source": [
    "# Modelagem\n",
    "\n",
    "Minimizar: \n",
    "\n",
    "    3x + 2y\n",
    "\n",
    "sujeito a:\n",
    "\n",
    "    x + y ≥ 5\n",
    "    2x + y ≥ 9\n",
    "    x,y ≥ 0\n",
    "\n",
    "- Minimizar x + y é denominada função objetivo do PPL(Problema de programação linear). Ela representa o objetivo a ser alcançado ao resolvermos o problema;\n",
    "\n",
    "- x + xy ≥ 5 e 2x + y ≥ 9 são denominadas restrições funcionais, estruturais ou tecnológicas;\n",
    "\n",
    "- x,y ≥ 0 são denominadas restrições de não negatividade;\n",
    "\n",
    "- x e y são denominadas variáveis de decisão."
   ]
  },
  {
   "cell_type": "code",
   "execution_count": 4,
   "metadata": {},
   "outputs": [
    {
     "name": "stdout",
     "output_type": "stream",
     "text": [
      "Optimal value: 5.538051392717782e-11 \n",
      "X: [1.82562240e-11 3.05920975e-13]\n"
     ]
    }
   ],
   "source": [
    "import numpy as np\n",
    "from scipy.optimize import linprog\n",
    "\n",
    "A = np.array([[1, 1], [2,1], [1, 1]])\n",
    "b = np.array([5, 9, 0])\n",
    "c = np.array([3,2])\n",
    "\n",
    "res = linprog(c, A_ub=A, b_ub=b,bounds=(0, None))\n",
    "print('Valor ótimo:', res.fun, '\\nX:', res.x) "
   ]
  },
  {
   "cell_type": "markdown",
   "metadata": {},
   "source": [
    "Nota-se, portanto, que o valor mínimo para a curva de nível 3x + 2y é 5.538051392717782e-11. \n",
    "\n",
    "## Exemplos\n",
    "\n",
    "Alguns modelos clássicos podem ser usados como exemplo para elucidar o processo de modelagem, que basicamente constitui em desenvolver os seguintes passos:\n",
    "\n",
    "1. Encontrar as variáveis de decisão do modelo\n",
    "2. Identificar as restrições do modelo.\n",
    "3. Identificar a função pbjetivo que deve ser maximizada ou minimizada. \n",
    "\n",
    "### Clássicos\n",
    "- O problema da dieta.\n",
    "- O problema da análise das atividades.\n",
    "- O problema do transporte."
   ]
  },
  {
   "cell_type": "markdown",
   "metadata": {},
   "source": [
    "### O problema do transporte\n",
    "\n",
    "Uma vinícola tem a sua produção de vinhos em duas regiões do Brasil: uma na região Nordeste, no Vale do São Francisco, que produz 700.000 litros e uma na região Sul, no Vale dos Vinhedos, que produz 950.000 litros. Esta vinícola transporta sua produção para 4 grandes distribuidores.\n",
    "\n",
    "<table>\n",
    "  <tr>\n",
    "    <td>Produção</td>\n",
    "    <td>Distrito 01</td>\n",
    "    <td>Distrito 02</td>\n",
    "    <td>Distrito 03</td>\n",
    "    <td>Distrito 04</td>\n",
    "    <td>Cap</td>\n",
    "  </tr>\n",
    "  <tr>\n",
    "    <td>Vale do São Francisco</td>\n",
    "    <td>14</td>\n",
    "    <td>5</td>\n",
    "    <td>7</td>\n",
    "    <td>9</td>\n",
    "    <td>700.000</td>\n",
    "  </tr>\n",
    "  <tr>\n",
    "    <td>Vale dos Vinhedos</td>\n",
    "    <td>4</td>\n",
    "    <td>10</td>\n",
    "    <td>12</td>\n",
    "    <td>7</td>\n",
    "    <td>950.000</td>\n",
    "  </tr>\n",
    "  <tr>\n",
    "    <td>Demanda</td>\n",
    "    <td>450.000</td>\n",
    "    <td>380.000</td>\n",
    "    <td>400.000</td>\n",
    "    <td>420.000</td>\n",
    "  </tr>\n",
    "</table>\n",
    "\n",
    "\n",
    "\n",
    "Minimizar \n",
    "\n",
    "    14x11 +5x12 +7x13 +9x14 +4x21 +10x22 +12x23 +7x24\n",
    "\n",
    "Sujeito a: \n",
    "\n",
    "    x11 + x12 + x13 + x14 ≤ 700.000\n",
    "\n",
    "    x21 + x22 + x23 + x24 ≤ 950.000\n",
    "\n",
    "    x11 + x21 ≥ 450.000\n",
    "\n",
    "    x12 + x22 ≥ 380.000\n",
    "\n",
    "    x13 + x23 ≥ 400.000\n",
    "\n",
    "    x14 + x24 ≥ 420.000\n",
    "\n",
    "    x11,x12,x13,x14,x21,x22,x23,x24 ≥ 0"
   ]
  }
 ],
 "metadata": {
  "interpreter": {
   "hash": "916dbcbb3f70747c44a77c7bcd40155683ae19c65e1c03b4aa3499c5328201f1"
  },
  "kernelspec": {
   "display_name": "Python 3.8.10 64-bit",
   "language": "python",
   "name": "python3"
  },
  "language_info": {
   "codemirror_mode": {
    "name": "ipython",
    "version": 3
   },
   "file_extension": ".py",
   "mimetype": "text/x-python",
   "name": "python",
   "nbconvert_exporter": "python",
   "pygments_lexer": "ipython3",
   "version": "3.8.10"
  },
  "orig_nbformat": 4
 },
 "nbformat": 4,
 "nbformat_minor": 2
}
