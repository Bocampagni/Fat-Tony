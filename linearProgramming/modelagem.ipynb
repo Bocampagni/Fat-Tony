{
 "cells": [
  {
   "cell_type": "markdown",
   "metadata": {},
   "source": [
    "# Modelagem\n",
    "\n",
    "\n",
    "Tem como função achar modelos matemáticos que traduzam determinada especificação. Usada como base para a resolução de problemas de programação linear, a modelagem da abertura para maximizarmos e minimizarmos funções genéricas.\n",
    "\n",
    "### Exemplo de minimização\n",
    "\n",
    "Minimizar: \n",
    "\\begin{equation*}\n",
    "3x + 2y\n",
    "\\end{equation*}\n",
    "Sujeito a:\n",
    "\\begin{aligned}\n",
    "\\ x + y ≥ 5 \\\\\n",
    "\\ 2x + y ≥ 9 \\\\\n",
    "\\ x,y ≥ 0\n",
    "\\end{aligned}\n",
    "\n",
    "- Minimizar x + y é denominada função objetivo do PPL(Problema de programação linear). Ela representa o objetivo a ser alcançado ao resolvermos o problema;\n",
    "\n",
    "- x + xy ≥ 5 e 2x + y ≥ 9 são denominadas restrições funcionais, estruturais ou tecnológicas;\n",
    "\n",
    "- x,y ≥ 0 são denominadas restrições de não negatividade;\n",
    "\n",
    "- x e y são denominadas variáveis de decisão."
   ]
  },
  {
   "cell_type": "code",
   "execution_count": 8,
   "metadata": {},
   "outputs": [
    {
     "name": "stdout",
     "output_type": "stream",
     "text": [
      "Valor ótimo: 5.538051392717782e-11 \n",
      "X: [1.82562240e-11 3.05920975e-13]\n"
     ]
    }
   ],
   "source": [
    "import numpy as np\n",
    "from scipy.optimize import linprog\n",
    "\n",
    "A = np.array([[1, 1], [2,1], [1, 1]])\n",
    "b = np.array([5, 9, 0])\n",
    "c = np.array([3,2])\n",
    "\n",
    "res = linprog(c, A_ub=A, b_ub=b,bounds=(0, None))\n",
    "print('Valor ótimo:', res.fun, '\\nX:', res.x) "
   ]
  },
  {
   "cell_type": "markdown",
   "metadata": {},
   "source": [
    "Nota-se, portanto, que o valor mínimo para a curva de nível 3x + 2y é 5.538051392717782e-11. \n",
    "\n",
    "## Exemplos\n",
    "\n",
    "Alguns modelos clássicos podem ser usados como exemplo para elucidar o processo de modelagem, que basicamente constitui em desenvolver os seguintes passos:\n",
    "\n",
    "1. Encontrar as variáveis de decisão do modelo\n",
    "2. Identificar as restrições do modelo.\n",
    "3. Identificar a função pbjetivo que deve ser maximizada ou minimizada. \n",
    "\n",
    "### Clássicos\n",
    "- O problema da dieta.\n",
    "- O problema da análise das atividades.\n",
    "- O problema do transporte."
   ]
  },
  {
   "cell_type": "markdown",
   "metadata": {},
   "source": [
    "### O problema do transporte\n",
    "\n",
    "Uma vinícola tem a sua produção de vinhos em duas regiões do Brasil: uma na região Nordeste, no Vale do São Francisco, que produz 700.000 litros e uma na região Sul, no Vale dos Vinhedos, que produz 950.000 litros. Esta vinícola transporta sua produção para 4 grandes distribuidores.\n",
    "\n",
    "<table>\n",
    "  <tr>\n",
    "    <td>Produção</td>\n",
    "    <td>Distrito 01</td>\n",
    "    <td>Distrito 02</td>\n",
    "    <td>Distrito 03</td>\n",
    "    <td>Distrito 04</td>\n",
    "    <td>Cap</td>\n",
    "  </tr>\n",
    "  <tr>\n",
    "    <td>Vale do São Francisco</td>\n",
    "    <td>14</td>\n",
    "    <td>5</td>\n",
    "    <td>7</td>\n",
    "    <td>9</td>\n",
    "    <td>700.000</td>\n",
    "  </tr>\n",
    "  <tr>\n",
    "    <td>Vale dos Vinhedos</td>\n",
    "    <td>4</td>\n",
    "    <td>10</td>\n",
    "    <td>12</td>\n",
    "    <td>7</td>\n",
    "    <td>950.000</td>\n",
    "  </tr>\n",
    "  <tr>\n",
    "    <td>Demanda</td>\n",
    "    <td>450.000</td>\n",
    "    <td>380.000</td>\n",
    "    <td>400.000</td>\n",
    "    <td>420.000</td>\n",
    "  </tr>\n",
    "</table>\n",
    "\n",
    "\n",
    "\n",
    "Minimizar \n",
    "\n",
    "\\begin{equation*}\n",
    "\\ 14x_{11} +5x_{12} +7x_{13} +9x_{14} +4x_{21} +10x_{22} +12x_{23} +7x_{24}\n",
    "\\end{equation*}\n",
    "\n",
    "Sujeito a: \n",
    "\n",
    "\\begin{aligned}\n",
    "\\ x_{11} + x_{12} + x_{13} + x_{14} ≤ 700.000 \\\\\n",
    "\\ x_{21} + x_{22} + x_{23} + x_{24} ≤ 950.000 \\\\\n",
    "\\ x_{11} + x_{21} ≥ 450.000 \\\\\n",
    "\\ x_{12} + x_{22} ≥ 380.000 \\\\\n",
    "\\ x_{13} + x_{23} ≥ 400.000 \\\\\n",
    "\\ x_{14} + x_{24} ≥ 420.000 \\\\\n",
    "\\ x_{11},x_{12},x_{13},x_{14},x_{21},x_{22},x_{23},x_{24} ≥ 0 \\\\\n",
    "\\end{aligned}\n",
    "\n",
    "\n",
    "\n"
   ]
  }
 ],
 "metadata": {
  "interpreter": {
   "hash": "916dbcbb3f70747c44a77c7bcd40155683ae19c65e1c03b4aa3499c5328201f1"
  },
  "kernelspec": {
   "display_name": "Python 3.8.10 64-bit",
   "language": "python",
   "name": "python3"
  },
  "language_info": {
   "codemirror_mode": {
    "name": "ipython",
    "version": 3
   },
   "file_extension": ".py",
   "mimetype": "text/x-python",
   "name": "python",
   "nbconvert_exporter": "python",
   "pygments_lexer": "ipython3",
   "version": "3.8.10"
  },
  "orig_nbformat": 4
 },
 "nbformat": 4,
 "nbformat_minor": 2
}
