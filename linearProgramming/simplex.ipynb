{
 "cells": [
  {
   "cell_type": "markdown",
   "metadata": {},
   "source": [
    "# Método Simplex\n",
    "\n",
    "Criado pelo matemático americano George Dantzig em 1947, o método simplex é utilizado para resolver problemas de programação linear.\n",
    "\n",
    "Dado o seguinte problema literal:\n",
    "\n",
    "        Minimizar Z = cx\n",
    "        Sujeito a:\n",
    "                Ax = b\n",
    "                x>=0\n",
    "        onde A ∈ Rm×n,b ∈ Rm×1,c ∈ Rn×1,x ∈ Rn×1.\n",
    "\n",
    "Para implementar um problema devemos colocá-lo na chamada forma padrão. Em outras palavras, transformar as inequações em equações."
   ]
  }
 ],
 "metadata": {
  "language_info": {
   "name": "python"
  },
  "orig_nbformat": 4
 },
 "nbformat": 4,
 "nbformat_minor": 2
}
